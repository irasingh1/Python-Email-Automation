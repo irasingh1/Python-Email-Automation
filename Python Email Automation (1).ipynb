{
 "cells": [
  {
   "cell_type": "code",
   "execution_count": 7,
   "id": "c6974c21-bd95-4ed1-9af5-caab7c7b1bf6",
   "metadata": {},
   "outputs": [
    {
     "name": "stdout",
     "output_type": "stream",
     "text": [
      "Email sent successfully with the inline image!\n"
     ]
    }
   ],
   "source": [
    "import smtplib\n",
    "from email.mime.text import MIMEText\n",
    "from email.mime.multipart import MIMEMultipart\n",
    "from email.mime.image import MIMEImage\n",
    "import os\n",
    "\n",
    "# Email details\n",
    "sender_email = 'singhira346@gmail.com'\n",
    "receiver_email = 'ira123singh@gmail.com'\n",
    "app_password = 'dgxk wgpj qylb fqvh'  # Replace with your App Password\n",
    "\n",
    "# Email subject and body\n",
    "subject = \"Advertisement Email\"\n",
    "html_body = \"\"\"\\\n",
    "<html>\n",
    "  <body>\n",
    "    <p>Check out our latest advertisement!</p>\n",
    "    <img src=\"cid:ad_image\">\n",
    "  </body>\n",
    "</html>\n",
    "\"\"\"\n",
    "\n",
    "# Path to the advertisement image\n",
    "image_path = r\"C:\\Users\\ira12\\Downloads\\pikaso_texttoimage_35mm-film-photography-Design-a-background-image-fo.jpeg\" # Replace with your image file path\n",
    "image_filename = os.path.basename(image_path)\n",
    "\n",
    "# Create the email\n",
    "message = MIMEMultipart('related')\n",
    "message['From'] = sender_email\n",
    "message['To'] = receiver_email\n",
    "message['Subject'] = subject\n",
    "\n",
    "# Attach the HTML body\n",
    "message.attach(MIMEText(html_body, 'html'))\n",
    "\n",
    "# Attach the image inline\n",
    "try:\n",
    "    with open(image_path, 'rb') as img_file:\n",
    "        img_part = MIMEImage(img_file.read())\n",
    "        img_part.add_header('Content-ID', '<ad_image>')\n",
    "        img_part.add_header('Content-Disposition', 'inline', filename=image_filename)\n",
    "        message.attach(img_part)\n",
    "except FileNotFoundError:\n",
    "    print(\"Image file not found. Ensure the path is correct.\")\n",
    "\n",
    "# Send the email\n",
    "try:\n",
    "    # Set up the SMTP server\n",
    "    server = smtplib.SMTP('smtp.gmail.com', 587)\n",
    "    server.starttls()\n",
    "    server.login(sender_email, app_password)\n",
    "    \n",
    "    # Send the email\n",
    "    server.send_message(message)\n",
    "    print(\"Email sent successfully with the inline image!\")\n",
    "except Exception as e:\n",
    "    print(f\"Error: {e}\")\n",
    "finally:\n",
    "    server.quit()\n"
   ]
  },
  {
   "cell_type": "code",
   "execution_count": null,
   "id": "2fdc7d68-5ae3-4e9e-af67-f8762639196e",
   "metadata": {},
   "outputs": [],
   "source": []
  }
 ],
 "metadata": {
  "kernelspec": {
   "display_name": "Python 3 (ipykernel)",
   "language": "python",
   "name": "python3"
  },
  "language_info": {
   "codemirror_mode": {
    "name": "ipython",
    "version": 3
   },
   "file_extension": ".py",
   "mimetype": "text/x-python",
   "name": "python",
   "nbconvert_exporter": "python",
   "pygments_lexer": "ipython3",
   "version": "3.12.7"
  }
 },
 "nbformat": 4,
 "nbformat_minor": 5
}
